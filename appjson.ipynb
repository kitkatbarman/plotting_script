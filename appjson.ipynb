{
 "cells": [
  {
   "cell_type": "code",
   "execution_count": 80,
   "metadata": {},
   "outputs": [
    {
     "name": "stdout",
     "output_type": "stream",
     "text": [
      " * Serving Flask app '__main__'\n",
      " * Debug mode: on\n"
     ]
    },
    {
     "name": "stderr",
     "output_type": "stream",
     "text": [
      "WARNING: This is a development server. Do not use it in a production deployment. Use a production WSGI server instead.\n",
      " * Running on http://127.0.0.1:5000\n",
      "Press CTRL+C to quit\n",
      " * Restarting with watchdog (windowsapi)\n"
     ]
    },
    {
     "ename": "SystemExit",
     "evalue": "1",
     "output_type": "error",
     "traceback": [
      "An exception has occurred, use %tb to see the full traceback.\n",
      "\u001b[1;31mSystemExit\u001b[0m\u001b[1;31m:\u001b[0m 1\n"
     ]
    },
    {
     "name": "stderr",
     "output_type": "stream",
     "text": [
      "c:\\Users\\josep\\anaconda3\\Lib\\site-packages\\IPython\\core\\interactiveshell.py:3534: UserWarning: To exit: use 'exit', 'quit', or Ctrl-D.\n",
      "  warn(\"To exit: use 'exit', 'quit', or Ctrl-D.\", stacklevel=1)\n"
     ]
    }
   ],
   "source": [
    "from flask import Flask, render_template, request\n",
    "import numpy as np\n",
    "import matplotlib.pyplot as plt\n",
    "from matplotlib.ticker import FuncFormatter\n",
    "import io\n",
    "import base64\n",
    "\n",
    "app = Flask(__name__)\n",
    "\n",
    "def plot_investment_growth(starting_amount, daily_interests, loss_percent, loss_frequency, days):\n",
    "    plt.figure(figsize=(10, 5))\n",
    "    for daily_interest in daily_interests:\n",
    "        daily_interest = daily_interest / 100.0\n",
    "        investment_values = np.zeros(days)\n",
    "        investment_values[0] = starting_amount\n",
    "        for i in range(1, days):\n",
    "            if i % loss_frequency == 0:\n",
    "                investment_values[i] = investment_values[i - 1] * (1 - loss_percent / 100)\n",
    "            else:\n",
    "                investment_values[i] = investment_values[i - 1] * (1 + daily_interest)\n",
    "\n",
    "        plt.plot(investment_values, label=f'{daily_interest * 100:.2f}% daily gain')\n",
    "    \n",
    "    plt.title('Investment Increase Over Time')\n",
    "    plt.xlabel('Days')\n",
    "    plt.ylabel('Amount ($)')\n",
    "    plt.gca().yaxis.set_major_formatter(FuncFormatter(lambda x, _: f'{x:,.0f}'))\n",
    "    plt.ylim(0, 1000000)\n",
    "    plt.legend()\n",
    "    plt.grid(True)\n",
    "    img = io.BytesIO()\n",
    "    plt.savefig(img, format='png')\n",
    "    img.seek(0)\n",
    "    plot_url = base64.b64encode(img.getvalue()).decode()\n",
    "    plt.close()\n",
    "    return plot_url\n",
    "\n",
    "@app.route('/', methods=['GET', 'POST'])\n",
    "def home():\n",
    "    plot_url = None\n",
    "    if request.method == 'POST':\n",
    "        starting_amount = float(request.form['starting_amount'])\n",
    "        loss_percent = float(request.form['loss_percent'])\n",
    "        loss_frequency = int(request.form['loss_frequency'])\n",
    "        daily_interests = [float(x) for x in request.form['interest_rates'].split(',')]\n",
    "        days = int(request.form['days'])\n",
    "        plot_url = plot_investment_growth(starting_amount, daily_interests, loss_percent, loss_frequency, days)\n",
    "\n",
    "    return render_template('index.html', plot_url=plot_url)\n",
    "\n",
    "if __name__ == '__main__':\n",
    "    app.run(debug=True)\n"
   ]
  },
  {
   "cell_type": "code",
   "execution_count": null,
   "metadata": {},
   "outputs": [],
   "source": []
  }
 ],
 "metadata": {
  "kernelspec": {
   "display_name": "base",
   "language": "python",
   "name": "python3"
  },
  "language_info": {
   "codemirror_mode": {
    "name": "ipython",
    "version": 3
   },
   "file_extension": ".py",
   "mimetype": "text/x-python",
   "name": "python",
   "nbconvert_exporter": "python",
   "pygments_lexer": "ipython3",
   "version": "3.11.5"
  }
 },
 "nbformat": 4,
 "nbformat_minor": 2
}
